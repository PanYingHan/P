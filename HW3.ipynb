{
 "cells": [
  {
   "cell_type": "code",
   "execution_count": 37,
   "id": "174e5c0e-dba3-40a1-bdec-038ecf1739df",
   "metadata": {},
   "outputs": [
    {
     "name": "stdout",
     "output_type": "stream",
     "text": [
      "[新聞] (肯德基)史上最失控罪惡「堡」典！松露+\n",
      "[商品] 麥當勞 辣味麥克六塊鷄塊 + 甜心卡奶茶\n",
      "[商品] 麥當勞 幻之醬\n",
      "[問題] 新光三越麥當勞\n",
      "[討論] 這次麥當勞辣味雞塊很好吃\n",
      "[討論] 歡樂送不能選可樂？\n",
      "[討論] Mos飲料容量\n",
      "[情報] 漢堡王 蜜汁BBQ漢堡買一送一(原價99/119)\n",
      "[新聞] 必勝客「起司造型觸控小夜燈」加價購登\n",
      "Fw: [情報] 5/15漢堡王華堡日\n",
      "[討論] 請問為何漢堡王薯條都不加鹽\n",
      "[情報]  【三商巧福】生日慶 \n",
      "[情報] 優惠卷彙整 & 集中分享串\n",
      "[公告] fastfood板規 (2021/09/07更新)\n",
      "[公告] 徵求虛寶序號及討論請於本篇推文\n",
      "[公告] 新版麥當勞App集中討論串\n"
     ]
    }
   ],
   "source": [
    "\n",
    "import urllib.request as req\n",
    "import json\n",
    "import pandas as pd\n",
    "import numpy\n",
    "#要爬的網址(美食版）\n",
    "url= \"https://www.ptt.cc/bbs/fastfood/index.html\"\n",
    "\n",
    "request=req.Request(url, headers={\n",
    "    \"User-Agent\":\"Mozilla/5.0 (Windows NT 10.0; Win64; x64) AppleWebKit/537.36 (KHTML, like Gecko) Chrome/106.0.0.0 Safari/537.36\"\n",
    "})\n",
    "with req.urlopen(request) as response:\n",
    "    data=response.read().decode(\"utf-8\")\n",
    "    \n",
    "#篩選有標題的資料\n",
    "import bs4\n",
    "root=bs4.BeautifulSoup(data, \"html.parser\")\n",
    "titles=root.find_all(\"div\", class_=\"title\")\n",
    "for title in titles:\n",
    "    if title.a !=None:\n",
    "        print(title.a.string)   "
   ]
  },
  {
   "cell_type": "code",
   "execution_count": 25,
   "id": "653bd489-6918-4ea2-8ea8-e718ccc8a435",
   "metadata": {},
   "outputs": [
    {
     "name": "stdout",
     "output_type": "stream",
     "text": [
      "\"[新聞] (肯德基)史上最失控罪惡「堡」典！松露+\"\n",
      "\"[商品] 麥當勞 辣味麥克六塊鷄塊 + 甜心卡奶茶\"\n",
      "\"[商品] 麥當勞 幻之醬\"\n",
      "\"[問題] 新光三越麥當勞\"\n",
      "\"[討論] 這次麥當勞辣味雞塊很好吃\"\n",
      "\"[討論] 歡樂送不能選可樂？\"\n",
      "\"[討論] Mos飲料容量\"\n",
      "\"[情報] 漢堡王 蜜汁BBQ漢堡買一送一(原價99/119)\"\n",
      "\"[新聞] 必勝客「起司造型觸控小夜燈」加價購登\"\n",
      "\"Fw: [情報] 5/15漢堡王華堡日\"\n",
      "\"[討論] 請問為何漢堡王薯條都不加鹽\"\n",
      "\"[情報]  【三商巧福】生日慶 \"\n",
      "\"[情報] 優惠卷彙整 & 集中分享串\"\n",
      "\"[公告] fastfood板規 (2021/09/07更新)\"\n",
      "\"[公告] 徵求虛寶序號及討論請於本篇推文\"\n",
      "\"[公告] 新版麥當勞App集中討論串\"\n"
     ]
    }
   ],
   "source": [
    "#放入列表\n",
    "temp = []\n",
    "for title in titles:\n",
    "    if title.a !=None:\n",
    "        temp.append(title.a.string)\n",
    "temp\n",
    "\n",
    "#把列表轉成dataframe\n",
    "df = pd.DataFrame(temp)\n",
    "\n",
    "#轉成csv檔\n",
    "temp = []\n",
    "for title in titles:\n",
    "    if title.a !=None: # 如果標題包含 a 標籤(仍存在於網頁上)，就印出來\n",
    "        finish = title.a.string \n",
    "        json_dict = json.dumps(finish,ensure_ascii=False).encode('utf8')\n",
    "        decode = json_dict.decode()\n",
    "        temp.append(decode)\n",
    "        print(decode)\n",
    "df.to_csv('ptt_basketball_titles.csv', index=False)"
   ]
  },
  {
   "cell_type": "code",
   "execution_count": 32,
   "id": "1646e980-81fc-43d3-8462-c82dad62e1c3",
   "metadata": {},
   "outputs": [
    {
     "data": {
      "text/plain": [
       "{0: {0: '[新聞] (肯德基)史上最失控罪惡「堡」典！松露+',\n",
       "  1: '[商品] 麥當勞 辣味麥克六塊鷄塊 + 甜心卡奶茶',\n",
       "  2: '[商品] 麥當勞 幻之醬',\n",
       "  3: '[問題] 新光三越麥當勞',\n",
       "  4: '[討論] 這次麥當勞辣味雞塊很好吃',\n",
       "  5: '[討論] 歡樂送不能選可樂？',\n",
       "  6: '[討論] Mos飲料容量',\n",
       "  7: '[情報] 漢堡王 蜜汁BBQ漢堡買一送一(原價99/119)',\n",
       "  8: '[新聞] 必勝客「起司造型觸控小夜燈」加價購登',\n",
       "  9: 'Fw: [情報] 5/15漢堡王華堡日',\n",
       "  10: '[討論] 請問為何漢堡王薯條都不加鹽',\n",
       "  11: '[情報]  【三商巧福】生日慶 ',\n",
       "  12: '[情報] 優惠卷彙整 & 集中分享串',\n",
       "  13: '[公告] fastfood板規 (2021/09/07更新)',\n",
       "  14: '[公告] 徵求虛寶序號及討論請於本篇推文',\n",
       "  15: '[公告] 新版麥當勞App集中討論串'}}"
      ]
     },
     "execution_count": 32,
     "metadata": {},
     "output_type": "execute_result"
    }
   ],
   "source": [
    "# 將dataFrame轉為dict\n",
    "temp = df.to_dict()\n",
    "type(temp)\n",
    "temp"
   ]
  },
  {
   "cell_type": "code",
   "execution_count": 36,
   "id": "73c84103-65eb-4f97-b12b-a8343faf01e8",
   "metadata": {},
   "outputs": [],
   "source": [
    "#把dict轉成json \n",
    "with open('CHAT.json','w',encoding='utf-8') as file:\n",
    "    json.dump(temp,file,ensure_ascii=False)"
   ]
  },
  {
   "cell_type": "code",
   "execution_count": 38,
   "id": "830354fd-8cff-438a-9f17-6de96359cc7d",
   "metadata": {},
   "outputs": [
    {
     "data": {
      "text/html": [
       "<div>\n",
       "<style scoped>\n",
       "    .dataframe tbody tr th:only-of-type {\n",
       "        vertical-align: middle;\n",
       "    }\n",
       "\n",
       "    .dataframe tbody tr th {\n",
       "        vertical-align: top;\n",
       "    }\n",
       "\n",
       "    .dataframe thead th {\n",
       "        text-align: right;\n",
       "    }\n",
       "</style>\n",
       "<table border=\"1\" class=\"dataframe\">\n",
       "  <thead>\n",
       "    <tr style=\"text-align: right;\">\n",
       "      <th></th>\n",
       "      <th>0</th>\n",
       "    </tr>\n",
       "  </thead>\n",
       "  <tbody>\n",
       "    <tr>\n",
       "      <th>0</th>\n",
       "      <td>[新聞] (肯德基)史上最失控罪惡「堡」典！松露+</td>\n",
       "    </tr>\n",
       "    <tr>\n",
       "      <th>1</th>\n",
       "      <td>[商品] 麥當勞 辣味麥克六塊鷄塊 + 甜心卡奶茶</td>\n",
       "    </tr>\n",
       "    <tr>\n",
       "      <th>2</th>\n",
       "      <td>[商品] 麥當勞 幻之醬</td>\n",
       "    </tr>\n",
       "    <tr>\n",
       "      <th>3</th>\n",
       "      <td>[問題] 新光三越麥當勞</td>\n",
       "    </tr>\n",
       "    <tr>\n",
       "      <th>4</th>\n",
       "      <td>[討論] 這次麥當勞辣味雞塊很好吃</td>\n",
       "    </tr>\n",
       "    <tr>\n",
       "      <th>5</th>\n",
       "      <td>[討論] 歡樂送不能選可樂？</td>\n",
       "    </tr>\n",
       "    <tr>\n",
       "      <th>6</th>\n",
       "      <td>[討論] Mos飲料容量</td>\n",
       "    </tr>\n",
       "    <tr>\n",
       "      <th>7</th>\n",
       "      <td>[情報] 漢堡王 蜜汁BBQ漢堡買一送一(原價99/119)</td>\n",
       "    </tr>\n",
       "    <tr>\n",
       "      <th>8</th>\n",
       "      <td>[新聞] 必勝客「起司造型觸控小夜燈」加價購登</td>\n",
       "    </tr>\n",
       "    <tr>\n",
       "      <th>9</th>\n",
       "      <td>Fw: [情報] 5/15漢堡王華堡日</td>\n",
       "    </tr>\n",
       "    <tr>\n",
       "      <th>10</th>\n",
       "      <td>[討論] 請問為何漢堡王薯條都不加鹽</td>\n",
       "    </tr>\n",
       "    <tr>\n",
       "      <th>11</th>\n",
       "      <td>[情報]  【三商巧福】生日慶</td>\n",
       "    </tr>\n",
       "    <tr>\n",
       "      <th>12</th>\n",
       "      <td>[情報] 優惠卷彙整 &amp; 集中分享串</td>\n",
       "    </tr>\n",
       "    <tr>\n",
       "      <th>13</th>\n",
       "      <td>[公告] fastfood板規 (2021/09/07更新)</td>\n",
       "    </tr>\n",
       "    <tr>\n",
       "      <th>14</th>\n",
       "      <td>[公告] 徵求虛寶序號及討論請於本篇推文</td>\n",
       "    </tr>\n",
       "    <tr>\n",
       "      <th>15</th>\n",
       "      <td>[公告] 新版麥當勞App集中討論串</td>\n",
       "    </tr>\n",
       "  </tbody>\n",
       "</table>\n",
       "</div>"
      ],
      "text/plain": [
       "                                 0\n",
       "0        [新聞] (肯德基)史上最失控罪惡「堡」典！松露+\n",
       "1        [商品] 麥當勞 辣味麥克六塊鷄塊 + 甜心卡奶茶\n",
       "2                     [商品] 麥當勞 幻之醬\n",
       "3                     [問題] 新光三越麥當勞\n",
       "4                [討論] 這次麥當勞辣味雞塊很好吃\n",
       "5                   [討論] 歡樂送不能選可樂？\n",
       "6                     [討論] Mos飲料容量\n",
       "7   [情報] 漢堡王 蜜汁BBQ漢堡買一送一(原價99/119)\n",
       "8          [新聞] 必勝客「起司造型觸控小夜燈」加價購登\n",
       "9              Fw: [情報] 5/15漢堡王華堡日\n",
       "10              [討論] 請問為何漢堡王薯條都不加鹽\n",
       "11                [情報]  【三商巧福】生日慶 \n",
       "12              [情報] 優惠卷彙整 & 集中分享串\n",
       "13  [公告] fastfood板規 (2021/09/07更新)\n",
       "14            [公告] 徵求虛寶序號及討論請於本篇推文\n",
       "15              [公告] 新版麥當勞App集中討論串"
      ]
     },
     "execution_count": 38,
     "metadata": {},
     "output_type": "execute_result"
    }
   ],
   "source": [
    "df"
   ]
  },
  {
   "cell_type": "code",
   "execution_count": null,
   "id": "df28a58c-a08b-4573-b6a9-65c8adb18497",
   "metadata": {},
   "outputs": [],
   "source": []
  }
 ],
 "metadata": {
  "kernelspec": {
   "display_name": "Python 3 (ipykernel)",
   "language": "python",
   "name": "python3"
  },
  "language_info": {
   "codemirror_mode": {
    "name": "ipython",
    "version": 3
   },
   "file_extension": ".py",
   "mimetype": "text/x-python",
   "name": "python",
   "nbconvert_exporter": "python",
   "pygments_lexer": "ipython3",
   "version": "3.11.7"
  }
 },
 "nbformat": 4,
 "nbformat_minor": 5
}
